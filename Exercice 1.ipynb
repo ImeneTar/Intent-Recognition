{
 "cells": [
  {
   "cell_type": "code",
   "execution_count": 1,
   "metadata": {},
   "outputs": [],
   "source": [
    "import numpy as np"
   ]
  },
  {
   "cell_type": "markdown",
   "metadata": {},
   "source": [
    "## Data Importation"
   ]
  },
  {
   "cell_type": "code",
   "execution_count": 2,
   "metadata": {},
   "outputs": [],
   "source": [
    "import os\n",
    "\n",
    "path = 'C:\\\\Users\\\\elitebook\\\\Documents\\\\ISI\\\\Rob sociale\\\\TP1\\\\Kismet_data_intent'\n",
    "dataset= os.listdir(path)"
   ]
  },
  {
   "cell_type": "code",
   "execution_count": 93,
   "metadata": {},
   "outputs": [],
   "source": [
    "def grad(t, x): \n",
    "    \n",
    "    grad = np.empty(x.shape[0])\n",
    "    for i in range(x.shape[0]):\n",
    "        if (i ==0):\n",
    "            grad[i] = x[i]\n",
    "        else:\n",
    "            grad[i] = (x[i] - x[i-1])/ (t[i] - t[i-1])\n",
    "    return grad"
   ]
  },
  {
   "cell_type": "markdown",
   "metadata": {},
   "source": [
    "### TOUT LE SIGNAL"
   ]
  },
  {
   "cell_type": "code",
   "execution_count": 148,
   "metadata": {},
   "outputs": [],
   "source": [
    "f_data= np.empty(3) \n",
    "en_data = np.empty(3) \n",
    "f_func = np.empty(9) \n",
    "en_func = np.empty(9) "
   ]
  },
  {
   "cell_type": "code",
   "execution_count": 149,
   "metadata": {},
   "outputs": [],
   "source": [
    "for file in dataset: \n",
    "    if \"ap\" in file:\n",
    "        data_path = os.path.join(path, file)\n",
    "        f = open(data_path, \"r\")\n",
    "        a = np.loadtxt(f)\n",
    "        \n",
    "        data = np.hstack([a, np.ones((a.shape[0], 1))])\n",
    "        \n",
    "        mean = np.mean(a[:,1], axis=0)\n",
    "        maximum = a[:,1].max()\n",
    "        rang = a[:,1].max() - a[:,1].min() \n",
    "        var = np.var(a[:,1], axis=0)\n",
    "        median = np.median(a[:,1], axis=0)\n",
    "        quan1 = np.percentile(a[:,1], 25)\n",
    "        quan3 = np.percentile(a[:,1], 75)\n",
    "        #grad = np.mean(np.gradient(a[:,1], axis=0, edge_order=1))\n",
    "        mgrad = np.mean(grad(a[:,0], a[:,1]))\n",
    "        \n",
    "        func = np.array([[mean,maximum,rang, var, median, quan1,quan3,mgrad, 1 ]])\n",
    "        \n",
    "        if file[-2:] == \"en\":\n",
    "            en_data = np.vstack([en_data, data])\n",
    "            en_func = np.vstack([en_func, func])\n",
    "        \n",
    "        if file[-2:] == \"f0\":\n",
    "            f_data = np.vstack([f_data, data])\n",
    "            f_func = np.vstack([f_func, func])\n",
    "            \n",
    "        \n",
    "        \n",
    "    if \"pw\" in file:\n",
    "        data_path = os.path.join(path, file)\n",
    "        f = open(data_path, \"r\")\n",
    "        a = np.loadtxt(f)\n",
    "        data = np.hstack([a, np.zeros((a.shape[0], 1))])\n",
    "        \n",
    "        \n",
    "        mean = np.mean(a[:,1], axis=0)\n",
    "        maximum = a[:,1].max()\n",
    "        rang = a[:,1].max() - a[:,1].min() \n",
    "        var = np.var(a[:,1], axis=0)\n",
    "        median = np.median(a[:,1], axis=0)\n",
    "        quan1 = np.percentile(a[:,1], 25)\n",
    "        quan3 = np.percentile(a[:,1], 75)\n",
    "        #grad = np.mean(np.gradient(a[:,1], axis=0, edge_order=1))\n",
    "        mgrad = np.mean(grad(a[:,0], a[:,1]))\n",
    "        \n",
    "        func = np.array([[mean,maximum, rang,var, median, quan1, quan3, mgrad, 0 ]])\n",
    "        \n",
    "        if file[-2:] == \"en\":\n",
    "            en_data = np.vstack([en_data, data])\n",
    "            en_func = np.vstack([en_func, func])\n",
    "        \n",
    "        if file[-2:] == \"f0\":\n",
    "            f_data = np.vstack([f_data, data])\n",
    "            f_func = np.vstack([f_func, func])"
   ]
  },
  {
   "cell_type": "markdown",
   "metadata": {},
   "source": [
    "## PARTIE VOISEE"
   ]
  },
  {
   "cell_type": "code",
   "execution_count": 163,
   "metadata": {},
   "outputs": [],
   "source": [
    "f_data= np.empty(3) \n",
    "en_data = np.empty(3) \n",
    "f_func = np.empty(9) \n",
    "en_func = np.empty(9) "
   ]
  },
  {
   "cell_type": "code",
   "execution_count": 164,
   "metadata": {},
   "outputs": [],
   "source": [
    "for file in dataset: \n",
    "    if \"ap\" in file:\n",
    "        data_path = os.path.join(path, file)\n",
    "        f = open(data_path, \"r\")\n",
    "        a = np.loadtxt(f)\n",
    "        \n",
    "        mgrad = np.mean(grad(a[:,0], a[:,1]))\n",
    "        \n",
    "        a = np.delete(a, np.where(a[:,1]==0)[0], 0)\n",
    "        data = np.hstack([a, np.ones((a.shape[0], 1))])\n",
    "        \n",
    "        mean = np.mean(a[:,1], axis=0)\n",
    "        maximum = a[:,1].max()\n",
    "        rang = a[:,1].max() - a[:,1].min() \n",
    "        var = np.var(a[:,1], axis=0)\n",
    "        median = np.median(a[:,1], axis=0)\n",
    "        quan1 = np.percentile(a[:,1], 25)\n",
    "        quan3 = np.percentile(a[:,1], 75)\n",
    "        \n",
    "        \n",
    "        func = np.array([[mean,maximum,rang, var, median, quan1,quan3, mgrad,1 ]])\n",
    "        \n",
    "        if file[-2:] == \"en\":\n",
    "            en_data = np.vstack([en_data, data])\n",
    "            en_func = np.vstack([en_func, func])\n",
    "        \n",
    "        if file[-2:] == \"f0\":\n",
    "            f_data = np.vstack([f_data, data])\n",
    "            f_func = np.vstack([f_func, func])\n",
    "            \n",
    "        \n",
    "        \n",
    "    if \"pw\" in file:\n",
    "        data_path = os.path.join(path, file)\n",
    "        f = open(data_path, \"r\")\n",
    "        a = np.loadtxt(f)\n",
    "        \n",
    "        mgrad = np.mean(grad(a[:,0], a[:,1]))\n",
    "        \n",
    "        a = np.delete(a, np.where(a[:,1]==0)[0], 0)\n",
    "        data = np.hstack([a, np.zeros((a.shape[0], 1))])\n",
    "        \n",
    "        \n",
    "        mean = np.mean(a[:,1], axis=0)\n",
    "        maximum = a[:,1].max()\n",
    "        rang = a[:,1].max() - a[:,1].min() \n",
    "        var = np.var(a[:,1], axis=0)\n",
    "        median = np.median(a[:,1], axis=0)\n",
    "        quan1 = np.percentile(a[:,1], 25)\n",
    "        quan3 = np.percentile(a[:,1], 75)\n",
    "       \n",
    "        \n",
    "        func = np.array([[mean,maximum, rang,var, median, quan1, quan3, mgrad,0 ]])\n",
    "        \n",
    "        if file[-2:] == \"en\":\n",
    "            en_data = np.vstack([en_data, data])\n",
    "            en_func = np.vstack([en_func, func])\n",
    "        \n",
    "        if file[-2:] == \"f0\":\n",
    "            f_data = np.vstack([f_data, data])\n",
    "            f_func = np.vstack([f_func, func])"
   ]
  },
  {
   "cell_type": "code",
   "execution_count": 150,
   "metadata": {},
   "outputs": [],
   "source": [
    "x = np.hstack([f_func[:,:-1], en_func[:,:-1]])\n",
    "y = en_func[:,8]"
   ]
  },
  {
   "cell_type": "code",
   "execution_count": 151,
   "metadata": {},
   "outputs": [
    {
     "data": {
      "text/plain": [
       "array([0., 0., 0., 0., 0., 0., 0., 0., 1., 1., 1., 1., 1., 1., 1., 1., 1.,\n",
       "       1., 1., 1., 1., 1., 1., 1., 1., 1., 0., 0., 0., 0., 0., 0., 0., 0.,\n",
       "       0., 1., 1., 1., 1., 0., 0., 0., 0., 0., 1., 1., 1., 1., 0., 1., 0.,\n",
       "       1., 0., 1., 0., 1., 0., 1., 0., 1., 0., 1., 0., 1., 0., 1., 0., 1.,\n",
       "       0., 1., 0., 1., 0., 1., 0., 1., 0., 1., 0., 1., 0., 1., 0., 1., 0.,\n",
       "       1., 0., 1., 0., 1., 0., 1., 0., 1., 0., 1., 0., 1., 0., 1., 0., 1.,\n",
       "       0., 1., 0., 1., 0., 1., 0., 1., 0., 1., 1., 1., 0., 1., 0., 1., 0.,\n",
       "       1., 0., 1., 0., 1., 0., 1., 0., 1., 0., 1., 0., 1., 0., 1., 0., 1.,\n",
       "       0., 1., 0., 1., 0., 1., 0., 1., 0., 1., 0., 1., 0., 1., 0., 1., 0.,\n",
       "       1., 0., 1., 0., 1., 0., 1., 0., 1., 0., 1., 0., 1., 0., 1., 0., 1.,\n",
       "       0., 1., 0., 1., 0., 1., 0., 1., 0., 1., 0., 0., 0., 0., 0., 0., 0.,\n",
       "       0., 0., 0., 0., 0., 0., 0., 0., 0., 0., 0., 0., 0., 0., 0., 1., 1.,\n",
       "       1., 1., 1., 0., 0., 0., 0., 0., 0., 0., 1., 1., 1., 1., 1., 1., 1.,\n",
       "       1., 1., 1., 1., 1., 1., 1., 1., 1., 1., 1., 1., 1., 1., 1., 1., 1.,\n",
       "       1., 1., 1., 1., 1., 0., 0., 0., 0., 0., 0., 0., 0., 0., 0., 0., 0.,\n",
       "       0., 0., 0., 0., 0., 0., 0., 0., 0., 0., 0., 0., 0., 1., 1., 1., 1.,\n",
       "       1., 1., 1., 1., 1., 1., 1., 1., 1., 1., 1., 1., 1., 1., 1., 1., 1.,\n",
       "       1., 1., 1., 1., 1., 1., 1., 1., 1., 1., 1., 1., 1., 1., 1., 1., 1.,\n",
       "       1., 1., 1., 1., 1., 1., 1., 1., 1., 1., 1., 1., 1., 1., 1., 1., 1.,\n",
       "       1., 1., 1., 0., 0., 0., 0., 0., 0., 0., 0., 0., 0., 0., 0., 0., 0.,\n",
       "       0., 0., 0., 0., 0., 0., 0., 0., 0., 0., 0., 0., 0., 0., 0., 0., 0.,\n",
       "       0., 0., 0., 0., 0., 0., 0., 0., 0., 0., 0., 0., 0., 0., 0., 0., 0.])"
      ]
     },
     "execution_count": 151,
     "metadata": {},
     "output_type": "execute_result"
    }
   ],
   "source": [
    "y"
   ]
  },
  {
   "cell_type": "code",
   "execution_count": 159,
   "metadata": {},
   "outputs": [],
   "source": [
    "a = np.where(f_data[:, 2]==0)[0]\n",
    "b = np.where(f_data[:, 2]==1)[0]\n"
   ]
  },
  {
   "cell_type": "code",
   "execution_count": 158,
   "metadata": {},
   "outputs": [],
   "source": [
    "import matplotlib.pyplot as plt"
   ]
  },
  {
   "cell_type": "code",
   "execution_count": 162,
   "metadata": {},
   "outputs": [
    {
     "data": {
      "image/png": "[encoded data removed]",
      "text/plain": [
       "<Figure size 432x288 with 1 Axes>"
      ]
     },
     "metadata": {
      "needs_background": "light"
     },
     "output_type": "display_data"
    }
   ],
   "source": [
    "plt.scatter(en_data[a[:1000],1],f_data[a[:1000],1], c='red', s=10, label='Interdiction')\n",
    "plt.scatter(en_data[b[:1000],1],f_data[b[:1000],1], c='blue', s=10, label='Approbation')\n",
    "plt.xlabel(\"Energie\")\n",
    "plt.ylabel(\"Fréquence\")\n",
    "plt.legend()\n",
    "plt.show()\n"
   ]
  },
  {
   "cell_type": "markdown",
   "metadata": {},
   "source": [
    "## Training "
   ]
  },
  {
   "cell_type": "code",
   "execution_count": 152,
   "metadata": {},
   "outputs": [],
   "source": [
    "# On importe le module SVM (ou autre classifieur)\n",
    "from sklearn import svm\n",
    "from sklearn.neighbors import KNeighborsClassifier\n",
    "\n",
    "# Maintenant on peut utiliser la librairie d'optimisation gridSearchCV\n",
    "from sklearn.model_selection import GridSearchCV\n",
    "from sklearn.model_selection import train_test_split\n",
    "\n",
    "# On split les données en jeux de train et test (20% de données en test)\n",
    "(x_train, x_test, y_train, y_test) = train_test_split(x, y, test_size = 0.4, random_state = 0, stratify = y)\n"
   ]
  },
  {
   "cell_type": "code",
   "execution_count": 140,
   "metadata": {},
   "outputs": [
    {
     "data": {
      "text/plain": [
       "113"
      ]
     },
     "execution_count": 140,
     "metadata": {},
     "output_type": "execute_result"
    }
   ],
   "source": [
    "(y_train==0).sum()"
   ]
  },
  {
   "cell_type": "code",
   "execution_count": 129,
   "metadata": {},
   "outputs": [],
   "source": [
    "from sklearn.preprocessing import StandardScaler"
   ]
  },
  {
   "cell_type": "code",
   "execution_count": 153,
   "metadata": {},
   "outputs": [],
   "source": [
    "sc = StandardScaler()\n",
    "sc.fit(x_train)\n",
    "\n",
    "x_train_std = sc.transform(x_train)\n",
    "x_test_std = sc.transform(x_test)"
   ]
  },
  {
   "cell_type": "code",
   "execution_count": 131,
   "metadata": {},
   "outputs": [],
   "source": [
    "# On définit le jeu de méta-paramètres du classifieur\n",
    "tuned_parameters = [{'kernel': ['rbf'], 'gamma': [1e-3, 1e-4],\n",
    "                     'C': [1, 10, 100, 1000]},\n",
    "                    {'kernel': ['linear'], 'C': [1, 10, 100, 1000]}]\n",
    "\n",
    "# On définit la grid search\n",
    "clf = GridSearchCV(svm.SVC(), tuned_parameters, cv=5,\n",
    "                       scoring='accuracy')  #'%s_macro' % score)"
   ]
  },
  {
   "cell_type": "code",
   "execution_count": 154,
   "metadata": {},
   "outputs": [],
   "source": [
    "grid_params = {'n_neighbors':[3,5,11,19],\n",
    "              'weights':['uniform', 'distance'],\n",
    "              'metric': ['euclidiean', 'manhattan']}\n",
    "clf = GridSearchCV(KNeighborsClassifier(), grid_params, verbose=1, cv=3, n_jobs=-1 )"
   ]
  },
  {
   "cell_type": "code",
   "execution_count": 155,
   "metadata": {},
   "outputs": [
    {
     "name": "stdout",
     "output_type": "stream",
     "text": [
      "Fitting 3 folds for each of 16 candidates, totalling 48 fits\n"
     ]
    },
    {
     "name": "stderr",
     "output_type": "stream",
     "text": [
      "[Parallel(n_jobs=-1)]: Using backend LokyBackend with 8 concurrent workers.\n"
     ]
    },
    {
     "name": "stdout",
     "output_type": "stream",
     "text": [
      "Best parameters set found on development set:\n",
      "\n",
      "{'metric': 'manhattan', 'n_neighbors': 11, 'weights': 'distance'}\n",
      "\n",
      "Grid scores on development set:\n",
      "\n",
      "nan (+/-nan) for {'metric': 'euclidiean', 'n_neighbors': 3, 'weights': 'uniform'}\n",
      "nan (+/-nan) for {'metric': 'euclidiean', 'n_neighbors': 3, 'weights': 'distance'}\n",
      "nan (+/-nan) for {'metric': 'euclidiean', 'n_neighbors': 5, 'weights': 'uniform'}\n",
      "nan (+/-nan) for {'metric': 'euclidiean', 'n_neighbors': 5, 'weights': 'distance'}\n",
      "nan (+/-nan) for {'metric': 'euclidiean', 'n_neighbors': 11, 'weights': 'uniform'}\n",
      "nan (+/-nan) for {'metric': 'euclidiean', 'n_neighbors': 11, 'weights': 'distance'}\n",
      "nan (+/-nan) for {'metric': 'euclidiean', 'n_neighbors': 19, 'weights': 'uniform'}\n",
      "nan (+/-nan) for {'metric': 'euclidiean', 'n_neighbors': 19, 'weights': 'distance'}\n",
      "0.938 (+/-0.082) for {'metric': 'manhattan', 'n_neighbors': 3, 'weights': 'uniform'}\n",
      "0.938 (+/-0.082) for {'metric': 'manhattan', 'n_neighbors': 3, 'weights': 'distance'}\n",
      "0.942 (+/-0.107) for {'metric': 'manhattan', 'n_neighbors': 5, 'weights': 'uniform'}\n",
      "0.947 (+/-0.095) for {'metric': 'manhattan', 'n_neighbors': 5, 'weights': 'distance'}\n",
      "0.933 (+/-0.095) for {'metric': 'manhattan', 'n_neighbors': 11, 'weights': 'uniform'}\n",
      "0.947 (+/-0.095) for {'metric': 'manhattan', 'n_neighbors': 11, 'weights': 'distance'}\n",
      "0.933 (+/-0.115) for {'metric': 'manhattan', 'n_neighbors': 19, 'weights': 'uniform'}\n",
      "0.933 (+/-0.115) for {'metric': 'manhattan', 'n_neighbors': 19, 'weights': 'distance'}\n",
      "\n",
      "Detailed classification report:\n",
      "\n",
      "The model is trained on the full development set.\n",
      "The scores are computed on the full evaluation set.\n",
      "\n"
     ]
    },
    {
     "name": "stderr",
     "output_type": "stream",
     "text": [
      "[Parallel(n_jobs=-1)]: Done  48 out of  48 | elapsed:    2.4s finished\n"
     ]
    }
   ],
   "source": [
    "# On apprend le classifieur sur la base d'entrainement\n",
    "clf.fit(x_train_std, y_train)\n",
    "\n",
    "# On print le rapport de l'apprentissage\n",
    "print(\"Best parameters set found on development set:\")\n",
    "print()\n",
    "print(clf.best_params_)\n",
    "print()\n",
    "print(\"Grid scores on development set:\")\n",
    "print()\n",
    "means = clf.cv_results_['mean_test_score']\n",
    "stds = clf.cv_results_['std_test_score']\n",
    "for mean, std, params in zip(means, stds, clf.cv_results_['params']):\n",
    "    print(\"%0.3f (+/-%0.03f) for %r\"\n",
    "            % (mean, std * 2, params))\n",
    "print()\n",
    "\n",
    "print(\"Detailed classification report:\")\n",
    "print()\n",
    "print(\"The model is trained on the full development set.\")\n",
    "print(\"The scores are computed on the full evaluation set.\")\n",
    "print()\n",
    "from sklearn.metrics import classification_report"
   ]
  },
  {
   "cell_type": "code",
   "execution_count": 156,
   "metadata": {},
   "outputs": [],
   "source": [
    "y_pred = clf.predict(x_test_std)"
   ]
  },
  {
   "cell_type": "code",
   "execution_count": 157,
   "metadata": {},
   "outputs": [
    {
     "name": "stdout",
     "output_type": "stream",
     "text": [
      "L accuracy sur le jeu de test est :\n",
      " 0.94\n"
     ]
    }
   ],
   "source": [
    "# On importe les librairies pour l'évaluation\n",
    "from sklearn.metrics import accuracy_score \n",
    "\n",
    "from sklearn.metrics import confusion_matrix\n",
    "\n",
    "# On calcul le score d accuracy\n",
    "acc_train=accuracy_score(y_test, y_pred)\n",
    "print('L accuracy sur le jeu de test est :\\n', acc_train)\n"
   ]
  }
 ],
 "metadata": {
  "kernelspec": {
   "display_name": "Python 3",
   "language": "python",
   "name": "python3"
  },
  "language_info": {
   "codemirror_mode": {
    "name": "ipython",
    "version": 3
   },
   "file_extension": ".py",
   "mimetype": "text/x-python",
   "name": "python",
   "nbconvert_exporter": "python",
   "pygments_lexer": "ipython3",
   "version": "3.7.7"
  }
 },
 "nbformat": 4,
 "nbformat_minor": 4
}
